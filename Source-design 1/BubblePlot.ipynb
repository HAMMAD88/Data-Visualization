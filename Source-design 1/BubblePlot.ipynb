{
  "nbformat": 4,
  "nbformat_minor": 0,
  "metadata": {
    "colab": {
      "provenance": []
    },
    "kernelspec": {
      "name": "python3",
      "display_name": "Python 3"
    },
    "language_info": {
      "name": "python"
    }
  },
  "cells": [
    {
      "cell_type": "code",
      "execution_count": null,
      "metadata": {
        "colab": {
          "base_uri": "https://localhost:8080/",
          "height": 368
        },
        "id": "QH6USY5YB3gx",
        "outputId": "7f399ccf-72b1-4fd6-bdaf-123fa35254bc"
      },
      "outputs": [
        {
          "output_type": "execute_result",
          "data": {
            "text/html": [
              "\n",
              "<div id=\"altair-viz-b14e075e3ee74884a909833b802204fc\"></div>\n",
              "<script type=\"text/javascript\">\n",
              "  var VEGA_DEBUG = (typeof VEGA_DEBUG == \"undefined\") ? {} : VEGA_DEBUG;\n",
              "  (function(spec, embedOpt){\n",
              "    let outputDiv = document.currentScript.previousElementSibling;\n",
              "    if (outputDiv.id !== \"altair-viz-b14e075e3ee74884a909833b802204fc\") {\n",
              "      outputDiv = document.getElementById(\"altair-viz-b14e075e3ee74884a909833b802204fc\");\n",
              "    }\n",
              "    const paths = {\n",
              "      \"vega\": \"https://cdn.jsdelivr.net/npm//vega@5?noext\",\n",
              "      \"vega-lib\": \"https://cdn.jsdelivr.net/npm//vega-lib?noext\",\n",
              "      \"vega-lite\": \"https://cdn.jsdelivr.net/npm//vega-lite@4.17.0?noext\",\n",
              "      \"vega-embed\": \"https://cdn.jsdelivr.net/npm//vega-embed@6?noext\",\n",
              "    };\n",
              "\n",
              "    function maybeLoadScript(lib, version) {\n",
              "      var key = `${lib.replace(\"-\", \"\")}_version`;\n",
              "      return (VEGA_DEBUG[key] == version) ?\n",
              "        Promise.resolve(paths[lib]) :\n",
              "        new Promise(function(resolve, reject) {\n",
              "          var s = document.createElement('script');\n",
              "          document.getElementsByTagName(\"head\")[0].appendChild(s);\n",
              "          s.async = true;\n",
              "          s.onload = () => {\n",
              "            VEGA_DEBUG[key] = version;\n",
              "            return resolve(paths[lib]);\n",
              "          };\n",
              "          s.onerror = () => reject(`Error loading script: ${paths[lib]}`);\n",
              "          s.src = paths[lib];\n",
              "        });\n",
              "    }\n",
              "\n",
              "    function showError(err) {\n",
              "      outputDiv.innerHTML = `<div class=\"error\" style=\"color:red;\">${err}</div>`;\n",
              "      throw err;\n",
              "    }\n",
              "\n",
              "    function displayChart(vegaEmbed) {\n",
              "      vegaEmbed(outputDiv, spec, embedOpt)\n",
              "        .catch(err => showError(`Javascript Error: ${err.message}<br>This usually means there's a typo in your chart specification. See the javascript console for the full traceback.`));\n",
              "    }\n",
              "\n",
              "    if(typeof define === \"function\" && define.amd) {\n",
              "      requirejs.config({paths});\n",
              "      require([\"vega-embed\"], displayChart, err => showError(`Error loading script: ${err.message}`));\n",
              "    } else {\n",
              "      maybeLoadScript(\"vega\", \"5\")\n",
              "        .then(() => maybeLoadScript(\"vega-lite\", \"4.17.0\"))\n",
              "        .then(() => maybeLoadScript(\"vega-embed\", \"6\"))\n",
              "        .catch(showError)\n",
              "        .then(() => displayChart(vegaEmbed));\n",
              "    }\n",
              "  })({\"config\": {\"view\": {\"continuousWidth\": 400, \"continuousHeight\": 300}}, \"data\": {\"name\": \"data-83a3d45eb7320139d2327b6956ec5a3d\"}, \"mark\": \"circle\", \"encoding\": {\"color\": {\"field\": \"CO2_QTY_TONNES\", \"scale\": {\"scheme\": \"orangered\"}, \"type\": \"quantitative\"}, \"size\": {\"field\": \"CO2_QTY_TONNES\", \"type\": \"quantitative\"}, \"tooltip\": [{\"field\": \"STATE_NAME\", \"type\": \"nominal\"}, {\"field\": \"CO2_QTY_TONNES\", \"type\": \"quantitative\"}], \"x\": {\"field\": \"AIRPORTS\", \"scale\": {\"type\": \"log\"}, \"type\": \"quantitative\"}, \"y\": {\"field\": \"TF\", \"scale\": {\"zero\": false}, \"type\": \"quantitative\"}}, \"$schema\": \"https://vega.github.io/schema/vega-lite/v4.17.0.json\", \"datasets\": {\"data-83a3d45eb7320139d2327b6956ec5a3d\": [{\"ID\": 6579, \"YEAR\": 2023, \"MONTH\": 1, \"STATE_NAME\": \"ALBANIA\", \"STATE_CODE\": \"LA\", \"CO2_QTY_TONNES\": 18549.8028, \"TF\": 1440, \"AIRPORTS\": 18}, {\"ID\": 6580, \"YEAR\": 2023, \"MONTH\": 1, \"STATE_NAME\": \"ARMENIA\", \"STATE_CODE\": \"UD\", \"CO2_QTY_TONNES\": 35784.9009, \"TF\": 1702, \"AIRPORTS\": 16}, {\"ID\": 6581, \"YEAR\": 2023, \"MONTH\": 1, \"STATE_NAME\": \"AUSTRIA\", \"STATE_CODE\": \"LO\", \"CO2_QTY_TONNES\": 178317.139, \"TF\": 11344, \"AIRPORTS\": 150}, {\"ID\": 6582, \"YEAR\": 2023, \"MONTH\": 1, \"STATE_NAME\": \"BELGIUM\", \"STATE_CODE\": \"EB\", \"CO2_QTY_TONNES\": 365957.0597, \"TF\": 10418, \"AIRPORTS\": 174}, {\"ID\": 6583, \"YEAR\": 2023, \"MONTH\": 1, \"STATE_NAME\": \"BOSNIA AND HERZEGOVINA\", \"STATE_CODE\": \"LQ\", \"CO2_QTY_TONNES\": 8055.46755, \"TF\": 738, \"AIRPORTS\": 19}, {\"ID\": 6584, \"YEAR\": 2023, \"MONTH\": 1, \"STATE_NAME\": \"BULGARIA\", \"STATE_CODE\": \"LB\", \"CO2_QTY_TONNES\": 46024.0706, \"TF\": 2786, \"AIRPORTS\": 154}, {\"ID\": 6585, \"YEAR\": 2023, \"MONTH\": 1, \"STATE_NAME\": \"CANARY ISLANDS\", \"STATE_CODE\": \"GC\", \"CO2_QTY_TONNES\": 326658.7049, \"TF\": 17508, \"AIRPORTS\": 8}, {\"ID\": 6586, \"YEAR\": 2023, \"MONTH\": 1, \"STATE_NAME\": \"CROATIA\", \"STATE_CODE\": \"LD\", \"CO2_QTY_TONNES\": 16213.8168, \"TF\": 2332, \"AIRPORTS\": 61}, {\"ID\": 6587, \"YEAR\": 2023, \"MONTH\": 1, \"STATE_NAME\": \"CYPRUS\", \"STATE_CODE\": \"LC\", \"CO2_QTY_TONNES\": 42803.2304, \"TF\": 2153, \"AIRPORTS\": 90}, {\"ID\": 6588, \"YEAR\": 2023, \"MONTH\": 1, \"STATE_NAME\": \"CZECHIA\", \"STATE_CODE\": \"LK\", \"CO2_QTY_TONNES\": 50116.77385, \"TF\": 3853, \"AIRPORTS\": 298}, {\"ID\": 6589, \"YEAR\": 2023, \"MONTH\": 1, \"STATE_NAME\": \"DENMARK*\", \"STATE_CODE\": \"EK\", \"CO2_QTY_TONNES\": 169737.8838, \"TF\": 11292, \"AIRPORTS\": 135}, {\"ID\": 6590, \"YEAR\": 2023, \"MONTH\": 1, \"STATE_NAME\": \"ESTONIA\", \"STATE_CODE\": \"EE\", \"CO2_QTY_TONNES\": 13158.3361, \"TF\": 1434, \"AIRPORTS\": 42}, {\"ID\": 6591, \"YEAR\": 2023, \"MONTH\": 1, \"STATE_NAME\": \"FINLAND\", \"STATE_CODE\": \"EF\", \"CO2_QTY_TONNES\": 175716.2576, \"TF\": 8143, \"AIRPORTS\": 120}, {\"ID\": 6592, \"YEAR\": 2023, \"MONTH\": 1, \"STATE_NAME\": \"FRANCE\", \"STATE_CODE\": \"LF\", \"CO2_QTY_TONNES\": 1449363.834, \"TF\": 60159, \"AIRPORTS\": 992}, {\"ID\": 6593, \"YEAR\": 2023, \"MONTH\": 1, \"STATE_NAME\": \"GEORGIA\", \"STATE_CODE\": \"UG\", \"CO2_QTY_TONNES\": 35147.55825, \"TF\": 1587, \"AIRPORTS\": 33}, {\"ID\": 6594, \"YEAR\": 2023, \"MONTH\": 1, \"STATE_NAME\": \"GERMANY\", \"STATE_CODE\": \"ED\", \"CO2_QTY_TONNES\": 1860023.81, \"TF\": 61208, \"AIRPORTS\": 1018}, {\"ID\": 6595, \"YEAR\": 2023, \"MONTH\": 1, \"STATE_NAME\": \"GREECE\", \"STATE_CODE\": \"LG\", \"CO2_QTY_TONNES\": 120855.3085, \"TF\": 11994, \"AIRPORTS\": 132}, {\"ID\": 6596, \"YEAR\": 2023, \"MONTH\": 1, \"STATE_NAME\": \"HUNGARY\", \"STATE_CODE\": \"LH\", \"CO2_QTY_TONNES\": 67707.13595, \"TF\": 3980, \"AIRPORTS\": 131}, {\"ID\": 6597, \"YEAR\": 2023, \"MONTH\": 1, \"STATE_NAME\": \"ICELAND\", \"STATE_CODE\": \"BI\", \"CO2_QTY_TONNES\": 22129.6819, \"TF\": 1427, \"AIRPORTS\": 88}, {\"ID\": 6598, \"YEAR\": 2023, \"MONTH\": 1, \"STATE_NAME\": \"IRELAND\", \"STATE_CODE\": \"EI\", \"CO2_QTY_TONNES\": 204406.9766, \"TF\": 10300, \"AIRPORTS\": 113}, {\"ID\": 6599, \"YEAR\": 2023, \"MONTH\": 1, \"STATE_NAME\": \"ITALY\", \"STATE_CODE\": \"LI\", \"CO2_QTY_TONNES\": 817073.8634, \"TF\": 51635, \"AIRPORTS\": 849}, {\"ID\": 6600, \"YEAR\": 2023, \"MONTH\": 1, \"STATE_NAME\": \"KOSOVO\", \"STATE_CODE\": \"BK\", \"CO2_QTY_TONNES\": 12827.5434, \"TF\": 879, \"AIRPORTS\": 10}, {\"ID\": 6601, \"YEAR\": 2023, \"MONTH\": 1, \"STATE_NAME\": \"LATVIA\", \"STATE_CODE\": \"EV\", \"CO2_QTY_TONNES\": 27596.58265, \"TF\": 2176, \"AIRPORTS\": 80}, {\"ID\": 6602, \"YEAR\": 2023, \"MONTH\": 1, \"STATE_NAME\": \"LITHUANIA\", \"STATE_CODE\": \"EY\", \"CO2_QTY_TONNES\": 25875.06135, \"TF\": 1952, \"AIRPORTS\": 69}, {\"ID\": 6603, \"YEAR\": 2023, \"MONTH\": 1, \"STATE_NAME\": \"LUXEMBOURG\", \"STATE_CODE\": \"EL\", \"CO2_QTY_TONNES\": 126943.3186, \"TF\": 2421, \"AIRPORTS\": 80}, {\"ID\": 6604, \"YEAR\": 2023, \"MONTH\": 1, \"STATE_NAME\": \"MALTA\", \"STATE_CODE\": \"LM\", \"CO2_QTY_TONNES\": 27630.665, \"TF\": 1736, \"AIRPORTS\": 8}, {\"ID\": 6605, \"YEAR\": 2023, \"MONTH\": 1, \"STATE_NAME\": \"MOLDOVA, REPUBLIC OF\", \"STATE_CODE\": \"LU\", \"CO2_QTY_TONNES\": 15571.99265, \"TF\": 941, \"AIRPORTS\": 13}, {\"ID\": 6606, \"YEAR\": 2023, \"MONTH\": 1, \"STATE_NAME\": \"MONACO\", \"STATE_CODE\": \"LN\", \"CO2_QTY_TONNES\": 10.77615, \"TF\": 18, \"AIRPORTS\": 3}, {\"ID\": 6607, \"YEAR\": 2023, \"MONTH\": 1, \"STATE_NAME\": \"MONTENEGRO\", \"STATE_CODE\": \"LY\", \"CO2_QTY_TONNES\": 4180.2642, \"TF\": 568, \"AIRPORTS\": 7}, {\"ID\": 6608, \"YEAR\": 2023, \"MONTH\": 1, \"STATE_NAME\": \"NETHERLANDS\", \"STATE_CODE\": \"EH\", \"CO2_QTY_TONNES\": 717292.7589, \"TF\": 20636, \"AIRPORTS\": 124}, {\"ID\": 6609, \"YEAR\": 2023, \"MONTH\": 1, \"STATE_NAME\": \"NORTH MACEDONIA\", \"STATE_CODE\": \"LW\", \"CO2_QTY_TONNES\": 8588.4372, \"TF\": 691, \"AIRPORTS\": 16}, {\"ID\": 6610, \"YEAR\": 2023, \"MONTH\": 1, \"STATE_NAME\": \"NORWAY*\", \"STATE_CODE\": \"EN\", \"CO2_QTY_TONNES\": 179583.0357, \"TF\": 25126, \"AIRPORTS\": 252}, {\"ID\": 6611, \"YEAR\": 2023, \"MONTH\": 1, \"STATE_NAME\": \"POLAND\", \"STATE_CODE\": \"EP\", \"CO2_QTY_TONNES\": 231788.9163, \"TF\": 14698, \"AIRPORTS\": 335}, {\"ID\": 6612, \"YEAR\": 2023, \"MONTH\": 1, \"STATE_NAME\": \"PORTUGAL*\", \"STATE_CODE\": \"LP\", \"CO2_QTY_TONNES\": 358992.4556, \"TF\": 16557, \"AIRPORTS\": 223}, {\"ID\": 6613, \"YEAR\": 2023, \"MONTH\": 1, \"STATE_NAME\": \"ROMANIA\", \"STATE_CODE\": \"LR\", \"CO2_QTY_TONNES\": 103442.0069, \"TF\": 7429, \"AIRPORTS\": 101}, {\"ID\": 6614, \"YEAR\": 2023, \"MONTH\": 1, \"STATE_NAME\": \"SERBIA\", \"STATE_CODE\": \"LY\", \"CO2_QTY_TONNES\": 33637.42575, \"TF\": 2870, \"AIRPORTS\": 47}, {\"ID\": 6615, \"YEAR\": 2023, \"MONTH\": 1, \"STATE_NAME\": \"SLOVAKIA\", \"STATE_CODE\": \"LZ\", \"CO2_QTY_TONNES\": 6890.6232, \"TF\": 753, \"AIRPORTS\": 116}, {\"ID\": 6616, \"YEAR\": 2023, \"MONTH\": 1, \"STATE_NAME\": \"SLOVENIA\", \"STATE_CODE\": \"LJ\", \"CO2_QTY_TONNES\": 5150.3151, \"TF\": 754, \"AIRPORTS\": 43}, {\"ID\": 6617, \"YEAR\": 2023, \"MONTH\": 1, \"STATE_NAME\": \"SPAIN\", \"STATE_CODE\": \"LE\", \"CO2_QTY_TONNES\": 1064090.137, \"TF\": 52335, \"AIRPORTS\": 506}, {\"ID\": 6618, \"YEAR\": 2023, \"MONTH\": 1, \"STATE_NAME\": \"SWEDEN\", \"STATE_CODE\": \"ES\", \"CO2_QTY_TONNES\": 168678.7983, \"TF\": 15080, \"AIRPORTS\": 251}, {\"ID\": 6619, \"YEAR\": 2023, \"MONTH\": 1, \"STATE_NAME\": \"SWITZERLAND\", \"STATE_CODE\": \"LS\", \"CO2_QTY_TONNES\": 384993.6357, \"TF\": 17592, \"AIRPORTS\": 90}, {\"ID\": 6620, \"YEAR\": 2023, \"MONTH\": 1, \"STATE_NAME\": \"T\\u00dcRKIYE\", \"STATE_CODE\": \"LT\", \"CO2_QTY_TONNES\": 1194181.477, \"TF\": 46590, \"AIRPORTS\": 310}, {\"ID\": 6621, \"YEAR\": 2023, \"MONTH\": 1, \"STATE_NAME\": \"UNITED KINGDOM*\", \"STATE_CODE\": \"EG\", \"CO2_QTY_TONNES\": 2307234.722, \"TF\": 74762, \"AIRPORTS\": 1370}]}}, {\"mode\": \"vega-lite\"});\n",
              "</script>"
            ],
            "text/plain": [
              "alt.Chart(...)"
            ]
          },
          "metadata": {},
          "execution_count": 4
        }
      ],
      "source": [
        "import altair as alt\n",
        "import pandas as pd\n",
        "from vega_datasets import data\n",
        "\n",
        "source = pd.read_csv('CO2_2023.csv')\n",
        "\n",
        "alt.Chart(source).mark_circle().encode(\n",
        "    alt.X('AIRPORTS:Q', scale=alt.Scale(type='log')),\n",
        "    alt.Y('TF:Q', scale=alt.Scale(zero=False)),\n",
        "    size='CO2_QTY_TONNES:Q',\n",
        "    color=alt.Color('CO2_QTY_TONNES:Q',scale=alt.Scale(scheme='orangered')),\n",
        "    tooltip = ['STATE_NAME','CO2_QTY_TONNES:Q']\n",
        ")"
      ]
    }
  ]
}