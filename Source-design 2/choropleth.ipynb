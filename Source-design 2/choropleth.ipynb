{
  "nbformat": 4,
  "nbformat_minor": 0,
  "metadata": {
    "colab": {
      "provenance": []
    },
    "kernelspec": {
      "name": "python3",
      "display_name": "Python 3"
    },
    "language_info": {
      "name": "python"
    }
  },
  "cells": [
    {
      "cell_type": "code",
      "source": [
        "import altair as alt\n",
        "import pandas as pd\n",
        "\n",
        "codes  = pd.read_csv('out.csv')\n",
        "countries = alt.topo_feature('https://raw.githubusercontent.com/deldersveld/topojson/master/world-countries.json', 'countries1')\n",
        "highlight = alt.selection_single(on='mouseover', fields=['properties.Alpha-2'], empty='none')\n",
        "background = alt.Chart(countries).mark_geoshape(\n",
        "  \n",
        "    stroke='grey'\n",
        ").encode(\n",
        "    color = alt.Color('Count:Q',scale=alt.Scale(type = 'log',scheme='viridis')),\n",
        "    tooltip=['properties.name:N','Count:Q']\n",
        "    \n",
        ").transform_lookup(\n",
        "    lookup='properties.Alpha-2',\n",
        "    from_= alt.LookupData(codes, 'Country', ['Count'])\n",
        ").add_selection(highlight).project('mercator').properties(\n",
        "    width=500,\n",
        "    height=300\n",
        ")\n",
        "background"
      ],
      "metadata": {
        "colab": {
          "base_uri": "https://localhost:8080/",
          "height": 334
        },
        "id": "izHsMYxXipHk",
        "outputId": "db69311a-39ec-42f0-8276-33c75669fdfc"
      },
      "execution_count": null,
      "outputs": [
        {
          "output_type": "execute_result",
          "data": {
            "text/html": [
              "\n",
              "<div id=\"altair-viz-3b95e0a2f0ee456bbfcbefa690632069\"></div>\n",
              "<script type=\"text/javascript\">\n",
              "  var VEGA_DEBUG = (typeof VEGA_DEBUG == \"undefined\") ? {} : VEGA_DEBUG;\n",
              "  (function(spec, embedOpt){\n",
              "    let outputDiv = document.currentScript.previousElementSibling;\n",
              "    if (outputDiv.id !== \"altair-viz-3b95e0a2f0ee456bbfcbefa690632069\") {\n",
              "      outputDiv = document.getElementById(\"altair-viz-3b95e0a2f0ee456bbfcbefa690632069\");\n",
              "    }\n",
              "    const paths = {\n",
              "      \"vega\": \"https://cdn.jsdelivr.net/npm//vega@5?noext\",\n",
              "      \"vega-lib\": \"https://cdn.jsdelivr.net/npm//vega-lib?noext\",\n",
              "      \"vega-lite\": \"https://cdn.jsdelivr.net/npm//vega-lite@4.17.0?noext\",\n",
              "      \"vega-embed\": \"https://cdn.jsdelivr.net/npm//vega-embed@6?noext\",\n",
              "    };\n",
              "\n",
              "    function maybeLoadScript(lib, version) {\n",
              "      var key = `${lib.replace(\"-\", \"\")}_version`;\n",
              "      return (VEGA_DEBUG[key] == version) ?\n",
              "        Promise.resolve(paths[lib]) :\n",
              "        new Promise(function(resolve, reject) {\n",
              "          var s = document.createElement('script');\n",
              "          document.getElementsByTagName(\"head\")[0].appendChild(s);\n",
              "          s.async = true;\n",
              "          s.onload = () => {\n",
              "            VEGA_DEBUG[key] = version;\n",
              "            return resolve(paths[lib]);\n",
              "          };\n",
              "          s.onerror = () => reject(`Error loading script: ${paths[lib]}`);\n",
              "          s.src = paths[lib];\n",
              "        });\n",
              "    }\n",
              "\n",
              "    function showError(err) {\n",
              "      outputDiv.innerHTML = `<div class=\"error\" style=\"color:red;\">${err}</div>`;\n",
              "      throw err;\n",
              "    }\n",
              "\n",
              "    function displayChart(vegaEmbed) {\n",
              "      vegaEmbed(outputDiv, spec, embedOpt)\n",
              "        .catch(err => showError(`Javascript Error: ${err.message}<br>This usually means there's a typo in your chart specification. See the javascript console for the full traceback.`));\n",
              "    }\n",
              "\n",
              "    if(typeof define === \"function\" && define.amd) {\n",
              "      requirejs.config({paths});\n",
              "      require([\"vega-embed\"], displayChart, err => showError(`Error loading script: ${err.message}`));\n",
              "    } else {\n",
              "      maybeLoadScript(\"vega\", \"5\")\n",
              "        .then(() => maybeLoadScript(\"vega-lite\", \"4.17.0\"))\n",
              "        .then(() => maybeLoadScript(\"vega-embed\", \"6\"))\n",
              "        .catch(showError)\n",
              "        .then(() => displayChart(vegaEmbed));\n",
              "    }\n",
              "  })({\"config\": {\"view\": {\"continuousWidth\": 400, \"continuousHeight\": 300}}, \"data\": {\"url\": \"https://raw.githubusercontent.com/deldersveld/topojson/master/world-countries.json\", \"format\": {\"feature\": \"countries1\", \"type\": \"topojson\"}}, \"mark\": {\"type\": \"geoshape\", \"stroke\": \"grey\"}, \"encoding\": {\"color\": {\"field\": \"Count\", \"scale\": {\"scheme\": \"viridis\", \"type\": \"log\"}, \"type\": \"quantitative\"}, \"tooltip\": [{\"field\": \"properties.name\", \"type\": \"nominal\"}, {\"field\": \"Count\", \"type\": \"quantitative\"}]}, \"height\": 300, \"projection\": {\"type\": \"mercator\"}, \"selection\": {\"selector005\": {\"type\": \"single\", \"on\": \"mouseover\", \"fields\": [\"properties.Alpha-2\"], \"empty\": \"none\"}}, \"transform\": [{\"lookup\": \"properties.Alpha-2\", \"from\": {\"data\": {\"name\": \"data-da5e4e2e40d6a13c0433e2f19aabea41\"}, \"key\": \"Country\", \"fields\": [\"Count\"]}}], \"width\": 500, \"$schema\": \"https://vega.github.io/schema/vega-lite/v4.17.0.json\", \"datasets\": {\"data-da5e4e2e40d6a13c0433e2f19aabea41\": [{\"Country\": \"US\", \"Count\": 29947}, {\"Country\": \"BR\", \"Count\": 6562}, {\"Country\": \"JP\", \"Count\": 3311}, {\"Country\": \"CA\", \"Count\": 2958}, {\"Country\": \"AU\", \"Count\": 2468}, {\"Country\": \"MX\", \"Count\": 2199}, {\"Country\": \"RU\", \"Count\": 1528}, {\"Country\": \"KR\", \"Count\": 1400}, {\"Country\": \"GB\", \"Count\": 1370}, {\"Country\": \"DE\", \"Count\": 1018}, {\"Country\": \"FR\", \"Count\": 992}, {\"Country\": \"AR\", \"Count\": 941}, {\"Country\": \"IT\", \"Count\": 849}, {\"Country\": \"CO\", \"Count\": 729}, {\"Country\": \"PH\", \"Count\": 687}, {\"Country\": \"CN\", \"Count\": 680}, {\"Country\": \"ZA\", \"Count\": 646}, {\"Country\": \"PG\", \"Count\": 607}, {\"Country\": \"IN\", \"Count\": 606}, {\"Country\": \"VE\", \"Count\": 601}, {\"Country\": \"ID\", \"Count\": 572}, {\"Country\": \"ES\", \"Count\": 506}, {\"Country\": \"CL\", \"Count\": 505}, {\"Country\": \"KE\", \"Count\": 375}, {\"Country\": \"PL\", \"Count\": 335}, {\"Country\": \"TR\", \"Count\": 310}, {\"Country\": \"CD\", \"Count\": 301}, {\"Country\": \"CZ\", \"Count\": 298}, {\"Country\": \"NZ\", \"Count\": 281}, {\"Country\": \"IR\", \"Count\": 276}, {\"Country\": \"NO\", \"Count\": 252}, {\"Country\": \"SE\", \"Count\": 251}, {\"Country\": \"AE\", \"Count\": 248}, {\"Country\": \"UA\", \"Count\": 247}, {\"Country\": \"PT\", \"Count\": 223}, {\"Country\": \"TZ\", \"Count\": 210}, {\"Country\": \"BO\", \"Count\": 202}, {\"Country\": \"PE\", \"Count\": 197}, {\"Country\": \"PK\", \"Count\": 183}, {\"Country\": \"UZ\", \"Count\": 180}, {\"Country\": \"KZ\", \"Count\": 175}, {\"Country\": \"BE\", \"Count\": 174}, {\"Country\": \"SA\", \"Count\": 160}, {\"Country\": \"HN\", \"Count\": 159}, {\"Country\": \"ZW\", \"Count\": 155}, {\"Country\": \"BG\", \"Count\": 154}, {\"Country\": \"AT\", \"Count\": 150}, {\"Country\": \"CU\", \"Count\": 149}, {\"Country\": \"EC\", \"Count\": 144}, {\"Country\": \"DK\", \"Count\": 135}, {\"Country\": \"MY\", \"Count\": 134}, {\"Country\": \"CR\", \"Count\": 134}, {\"Country\": \"BW\", \"Count\": 134}, {\"Country\": \"GR\", \"Count\": 132}, {\"Country\": \"HU\", \"Count\": 131}, {\"Country\": \"NL\", \"Count\": 124}, {\"Country\": \"ZM\", \"Count\": 123}, {\"Country\": \"EG\", \"Count\": 122}, {\"Country\": \"FI\", \"Count\": 120}, {\"Country\": \"AO\", \"Count\": 118}, {\"Country\": \"SK\", \"Count\": 116}, {\"Country\": \"IE\", \"Count\": 113}, {\"Country\": \"TH\", \"Count\": 110}, {\"Country\": \"PY\", \"Count\": 102}, {\"Country\": \"HK\", \"Count\": 101}, {\"Country\": \"RO\", \"Count\": 101}, {\"Country\": \"MZ\", \"Count\": 100}, {\"Country\": \"DZ\", \"Count\": 99}, {\"Country\": \"KP\", \"Count\": 94}, {\"Country\": \"TW\", \"Count\": 93}, {\"Country\": \"VN\", \"Count\": 91}, {\"Country\": \"MG\", \"Count\": 91}, {\"Country\": \"CY\", \"Count\": 90}, {\"Country\": \"CH\", \"Count\": 90}, {\"Country\": \"GL\", \"Count\": 89}, {\"Country\": \"IS\", \"Count\": 88}, {\"Country\": \"PA\", \"Count\": 88}, {\"Country\": \"IQ\", \"Count\": 87}, {\"Country\": \"SS\", \"Count\": 83}, {\"Country\": \"MM\", \"Count\": 80}, {\"Country\": \"LV\", \"Count\": 80}, {\"Country\": \"AF\", \"Count\": 78}, {\"Country\": \"BS\", \"Count\": 77}, {\"Country\": \"LY\", \"Count\": 70}, {\"Country\": \"GT\", \"Count\": 69}, {\"Country\": \"LT\", \"Count\": 69}, {\"Country\": \"PR\", \"Count\": 68}, {\"Country\": \"BY\", \"Count\": 65}, {\"Country\": \"NP\", \"Count\": 65}, {\"Country\": \"NG\", \"Count\": 64}, {\"Country\": \"ET\", \"Count\": 64}, {\"Country\": \"UY\", \"Count\": 62}, {\"Country\": \"HR\", \"Count\": 61}, {\"Country\": \"OM\", \"Count\": 59}, {\"Country\": \"PF\", \"Count\": 57}, {\"Country\": \"CG\", \"Count\": 56}, {\"Country\": \"KG\", \"Count\": 56}, {\"Country\": \"BD\", \"Count\": 55}, {\"Country\": \"SR\", \"Count\": 55}, {\"Country\": \"GY\", \"Count\": 52}, {\"Country\": \"SD\", \"Count\": 51}, {\"Country\": \"IL\", \"Count\": 50}, {\"Country\": \"BF\", \"Count\": 50}, {\"Country\": \"TM\", \"Count\": 50}, {\"Country\": \"CF\", \"Count\": 48}, {\"Country\": \"RS\", \"Count\": 47}, {\"Country\": \"MA\", \"Count\": 45}, {\"Country\": \"NI\", \"Count\": 43}, {\"Country\": \"SI\", \"Count\": 43}, {\"Country\": \"TD\", \"Count\": 42}, {\"Country\": \"DO\", \"Count\": 42}, {\"Country\": \"EE\", \"Count\": 42}, {\"Country\": \"UG\", \"Count\": 41}, {\"Country\": \"SO\", \"Count\": 41}, {\"Country\": \"CM\", \"Count\": 40}, {\"Country\": \"GA\", \"Count\": 39}, {\"Country\": \"AZ\", \"Count\": 39}, {\"Country\": \"SY\", \"Count\": 39}, {\"Country\": \"FK\", \"Count\": 39}, {\"Country\": \"AQ\", \"Count\": 39}, {\"Country\": \"SB\", \"Count\": 38}, {\"Country\": \"LK\", \"Count\": 38}, {\"Country\": \"YE\", \"Count\": 38}, {\"Country\": \"VU\", \"Count\": 36}, {\"Country\": \"MH\", \"Count\": 36}, {\"Country\": \"FJ\", \"Count\": 36}, {\"Country\": \"ML\", \"Count\": 36}, {\"Country\": \"BZ\", \"Count\": 36}, {\"Country\": \"MN\", \"Count\": 33}, {\"Country\": \"GE\", \"Count\": 33}, {\"Country\": \"LS\", \"Count\": 33}, {\"Country\": \"MR\", \"Count\": 33}, {\"Country\": \"CI\", \"Count\": 31}, {\"Country\": \"MW\", \"Count\": 30}, {\"Country\": \"SV\", \"Count\": 29}, {\"Country\": \"EH\", \"Count\": 28}, {\"Country\": \"MV\", \"Count\": 28}, {\"Country\": \"NC\", \"Count\": 27}, {\"Country\": \"NE\", \"Count\": 27}, {\"Country\": \"JM\", \"Count\": 27}, {\"Country\": \"KW\", \"Count\": 26}, {\"Country\": \"TN\", \"Count\": 25}, {\"Country\": \"KI\", \"Count\": 23}, {\"Country\": \"LA\", \"Count\": 22}, {\"Country\": \"JO\", \"Count\": 22}, {\"Country\": \"SC\", \"Count\": 22}, {\"Country\": \"GF\", \"Count\": 22}, {\"Country\": \"QA\", \"Count\": 21}, {\"Country\": \"HT\", \"Count\": 21}, {\"Country\": \"SN\", \"Count\": 20}, {\"Country\": \"LR\", \"Count\": 20}, {\"Country\": \"TJ\", \"Count\": 19}, {\"Country\": \"BA\", \"Count\": 19}, {\"Country\": \"AL\", \"Count\": 18}, {\"Country\": \"GH\", \"Count\": 18}, {\"Country\": \"DJ\", \"Count\": 17}, {\"Country\": \"GN\", \"Count\": 17}, {\"Country\": \"KH\", \"Count\": 17}, {\"Country\": \"FO\", \"Count\": 16}, {\"Country\": \"AM\", \"Count\": 16}, {\"Country\": \"SZ\", \"Count\": 16}, {\"Country\": \"MK\", \"Count\": 16}, {\"Country\": \"BN\", \"Count\": 16}, {\"Country\": \"MD\", \"Count\": 13}, {\"Country\": \"TL\", \"Count\": 13}, {\"Country\": \"SL\", \"Count\": 12}, {\"Country\": \"MP\", \"Count\": 12}, {\"Country\": \"BT\", \"Count\": 12}, {\"Country\": \"LB\", \"Count\": 11}, {\"Country\": \"SG\", \"Count\": 11}, {\"Country\": \"BH\", \"Count\": 11}, {\"Country\": \"GP\", \"Count\": 10}, {\"Country\": \"BJ\", \"Count\": 10}, {\"Country\": \"XK\", \"Count\": 10}, {\"Country\": \"CV\", \"Count\": 10}, {\"Country\": \"CK\", \"Count\": 10}, {\"Country\": \"ER\", \"Count\": 10}, {\"Country\": \"KY\", \"Count\": 10}, {\"Country\": \"VI\", \"Count\": 9}, {\"Country\": \"RW\", \"Count\": 9}, {\"Country\": \"LU\", \"Count\": 9}, {\"Country\": \"RE\", \"Count\": 9}, {\"Country\": \"UM\", \"Count\": 9}, {\"Country\": \"TC\", \"Count\": 9}, {\"Country\": \"MT\", \"Count\": 8}, {\"Country\": \"ME\", \"Count\": 7}, {\"Country\": \"GQ\", \"Count\": 7}, {\"Country\": \"FM\", \"Count\": 7}, {\"Country\": \"GW\", \"Count\": 7}, {\"Country\": \"PS\", \"Count\": 7}, {\"Country\": \"GU\", \"Count\": 7}, {\"Country\": \"TF\", \"Count\": 7}, {\"Country\": \"BI\", \"Count\": 7}, {\"Country\": \"IM\", \"Count\": 7}, {\"Country\": \"TG\", \"Count\": 7}, {\"Country\": \"VC\", \"Count\": 6}, {\"Country\": \"TO\", \"Count\": 6}, {\"Country\": \"AG\", \"Count\": 6}, {\"Country\": \"WS\", \"Count\": 5}, {\"Country\": \"VG\", \"Count\": 5}, {\"Country\": \"MO\", \"Count\": 5}, {\"Country\": \"AS\", \"Count\": 4}, {\"Country\": \"SH\", \"Count\": 4}, {\"Country\": \"MQ\", \"Count\": 4}, {\"Country\": \"BM\", \"Count\": 4}, {\"Country\": \"MU\", \"Count\": 4}, {\"Country\": \"KM\", \"Count\": 4}, {\"Country\": \"ST\", \"Count\": 4}, {\"Country\": \"BQ\", \"Count\": 4}, {\"Country\": \"PW\", \"Count\": 3}, {\"Country\": \"AW\", \"Count\": 3}, {\"Country\": \"KN\", \"Count\": 3}, {\"Country\": \"GG\", \"Count\": 3}, {\"Country\": \"MC\", \"Count\": 3}, {\"Country\": \"TT\", \"Count\": 3}, {\"Country\": \"TV\", \"Count\": 3}, {\"Country\": \"AD\", \"Count\": 3}, {\"Country\": \"GD\", \"Count\": 3}, {\"Country\": \"MS\", \"Count\": 2}, {\"Country\": \"HM\", \"Count\": 2}, {\"Country\": \"DM\", \"Count\": 2}, {\"Country\": \"BB\", \"Count\": 2}, {\"Country\": \"AI\", \"Count\": 2}, {\"Country\": \"LC\", \"Count\": 2}, {\"Country\": \"MF\", \"Count\": 2}, {\"Country\": \"LI\", \"Count\": 2}, {\"Country\": \"PM\", \"Count\": 2}, {\"Country\": \"WF\", \"Count\": 2}, {\"Country\": \"SM\", \"Count\": 2}, {\"Country\": \"JE\", \"Count\": 1}, {\"Country\": \"CX\", \"Count\": 1}, {\"Country\": \"CC\", \"Count\": 1}, {\"Country\": \"VA\", \"Count\": 1}, {\"Country\": \"GI\", \"Count\": 1}, {\"Country\": \"NU\", \"Count\": 1}, {\"Country\": \"SX\", \"Count\": 1}, {\"Country\": \"IO\", \"Count\": 1}, {\"Country\": \"CW\", \"Count\": 1}, {\"Country\": \"NR\", \"Count\": 1}, {\"Country\": \"GS\", \"Count\": 1}, {\"Country\": \"BL\", \"Count\": 1}, {\"Country\": \"GM\", \"Count\": 1}, {\"Country\": \"YT\", \"Count\": 1}, {\"Country\": \"NF\", \"Count\": 1}]}}, {\"mode\": \"vega-lite\"});\n",
              "</script>"
            ],
            "text/plain": [
              "alt.Chart(...)"
            ]
          },
          "metadata": {},
          "execution_count": 5
        }
      ]
    }
  ]
}